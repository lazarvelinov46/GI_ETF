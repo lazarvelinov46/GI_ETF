{
  "nbformat": 4,
  "nbformat_minor": 0,
  "metadata": {
    "colab": {
      "provenance": []
    },
    "kernelspec": {
      "name": "python3",
      "display_name": "Python 3"
    },
    "language_info": {
      "name": "python"
    }
  },
  "cells": [
    {
      "cell_type": "code",
      "execution_count": null,
      "metadata": {
        "id": "LsPW_oh0Cgbp"
      },
      "outputs": [],
      "source": [
        "!pip install pysam\n",
        "import pysam"
      ]
    },
    {
      "cell_type": "markdown",
      "source": [
        "Reading BAM file"
      ],
      "metadata": {
        "id": "j-4H26ScNh-F"
      }
    },
    {
      "cell_type": "code",
      "source": [
        "samfile = pysam.AlignmentFile(\"merged-tumor.bam\",\"rb\")"
      ],
      "metadata": {
        "id": "FdyAyNd2FmmJ"
      },
      "execution_count": 74,
      "outputs": []
    },
    {
      "cell_type": "markdown",
      "source": [
        "Fetching first read and inspecting it"
      ],
      "metadata": {
        "id": "amIh-T50NmGR"
      }
    },
    {
      "cell_type": "code",
      "source": [
        "read=samfile.head(1)\n",
        "flag=0\n",
        "for x in read:\n",
        "  print(x.to_string())\n",
        "  flag=x.flag"
      ],
      "metadata": {
        "colab": {
          "base_uri": "https://localhost:8080/"
        },
        "id": "jCI47PgBHLZw",
        "outputId": "d2910879-937a-43c1-e8de-86ea0478444b"
      },
      "execution_count": 75,
      "outputs": [
        {
          "output_type": "stream",
          "name": "stdout",
          "text": [
            "C0HVYACXX120402:7:1207:5722:57044\t1187\t21\t9483249\t27\t76M\t=\t9483382\t209\tTTTTCAAACAGTATCTATGCCTGCCAAATGTGAACATATAAAAAAAAACCAGAATGTGCCATTCTGATTTAAACTG\t==<>@?@@>@D?>@C?>8JA5?>CC>?@???BB;H-:4A?D=DB8BDE?GBJCD@B8??E<A>CDJB@B>AA@@@C\tXA:Z:GL000217.1,-110754,76M,1;\tBD:Z:NNNNNNNNNNNNNNNNNNNNNNNNNNNNNNNNNNNNNNNNNNNNNNNNNNNNNNNNNNNNNNNNNNNNNNNNNNNN\tMD:Z:76\tRG:Z:1\tBI:Z:NNNNNNNNNNNNNNNNNNNNNNNNNNNNNNNNNNNNNNNNNNNNNNNNNNNNNNNNNNNNNNNNNNNNNNNNNNNN\tNM:i:0\tMQ:i:27\tAS:i:76\tXS:i:71\n"
          ]
        }
      ]
    },
    {
      "cell_type": "markdown",
      "source": [
        "Inspecting flag field:"
      ],
      "metadata": {
        "id": "e9Exl3lkNr08"
      }
    },
    {
      "cell_type": "code",
      "source": [
        "print(flag)"
      ],
      "metadata": {
        "colab": {
          "base_uri": "https://localhost:8080/"
        },
        "id": "mNquKAIoNufZ",
        "outputId": "6eade754-fc5c-4498-8a8d-8d95340e56d0"
      },
      "execution_count": 76,
      "outputs": [
        {
          "output_type": "stream",
          "name": "stdout",
          "text": [
            "1187\n"
          ]
        }
      ]
    },
    {
      "cell_type": "markdown",
      "source": [
        "Result from https://broadinstitute.github.io/picard/explain-flags.html for flag 1187:\n",
        "Summary:\n",
        "    read paired (0x1)\n",
        "    read mapped in proper pair (0x2)\n",
        "    mate reverse strand (0x20)\n",
        "    second in pair (0x80)\n",
        "    read is PCR or optical duplicate (0x400)"
      ],
      "metadata": {
        "id": "s9UZtaoPN3a0"
      }
    },
    {
      "cell_type": "code",
      "source": [
        "unmapped_reads=0\n",
        "total_reads=0\n",
        "map_quality_zero=0\n",
        "sum_all=0\n",
        "for read in samfile:\n",
        "  flag=read.flag\n",
        "  total_reads+=1\n",
        "  if(flag&0x4):\n",
        "    unmapped_reads+=1\n",
        "  if(read.mapping_quality==0):\n",
        "    map_quality_zero+=1\n",
        "  sum_all+=read.mapping_quality\n",
        "print(\"Number of unmaped reads: \",unmapped_reads)\n",
        "print(\"Total number of reads: \",total_reads)\n",
        "print(\"Number of reads with mapping quality 0: \",map_quality_zero)\n",
        "avg_quality=sum_all/(total_reads*1.0)\n",
        "avg_non_zero=sum_all/((total_reads-map_quality_zero)*1.0)\n",
        "print(\"Average mapping quality of all reads: \",avg_quality)\n",
        "print(\"Average mapping quality (reads with zero mapping quality filtered out): \",avg_non_zero)"
      ],
      "metadata": {
        "colab": {
          "base_uri": "https://localhost:8080/"
        },
        "id": "1CmzJueKN9lZ",
        "outputId": "0a834d7d-4f2a-47bd-deae-1d2b6629f73b"
      },
      "execution_count": 77,
      "outputs": [
        {
          "output_type": "stream",
          "name": "stdout",
          "text": [
            "Number of unmaped reads:  17765\n",
            "Total number of reads:  2921629\n",
            "Number of reads with mapping quality 0:  126628\n",
            "Average mapping quality of all reads:  55.91379158681681\n",
            "Average mapping quality (reads with zero mapping quality filtered out):  58.4469755109211\n"
          ]
        }
      ]
    }
  ]
}
